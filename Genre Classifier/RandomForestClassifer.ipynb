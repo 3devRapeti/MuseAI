{
 "cells": [
  {
   "cell_type": "code",
   "execution_count": 1,
   "id": "37187739-77ba-4522-a136-846ad3409cc7",
   "metadata": {},
   "outputs": [],
   "source": [
    "import numpy as np\n",
    "import pandas as pd\n",
    "from sklearn.model_selection import train_test_split\n",
    "from sklearn.feature_extraction.text import TfidfVectorizer\n",
    "from sklearn.ensemble import RandomForestClassifier\n",
    "import pickle\n",
    "\n"
   ]
  },
  {
   "cell_type": "code",
   "execution_count": 4,
   "id": "37614b2c-9cd1-4906-a99b-3c3a56ea5f1a",
   "metadata": {},
   "outputs": [],
   "source": [
    "\n",
    "# Read the data\n",
    "data = pd.read_excel('selected_songs.xlsx')\n",
    "\n"
   ]
  },
  {
   "cell_type": "code",
   "execution_count": 5,
   "id": "2506f930-772a-49c9-88b1-0ed6d23362ac",
   "metadata": {},
   "outputs": [],
   "source": [
    "# Assuming the DataFrame has columns 'lyrics' and 'genre'\n",
    "# You may need to adjust these column names based on the actual dataset\n",
    "lyrics = data['lyrics']\n",
    "genres = data['genre']\n"
   ]
  },
  {
   "cell_type": "code",
   "execution_count": 6,
   "id": "e15f3593-acfc-451f-afa4-f1aa6a391734",
   "metadata": {},
   "outputs": [],
   "source": [
    "\n",
    "# Convert genres to a numerical format (for classification)\n",
    "# If genres are categorical, you can encode them using LabelEncoder\n",
    "from sklearn.preprocessing import LabelEncoder\n",
    "label_encoder = LabelEncoder()\n",
    "encoded_genres = label_encoder.fit_transform(genres)\n"
   ]
  },
  {
   "cell_type": "code",
   "execution_count": 7,
   "id": "adfc99e4-2545-4d88-af28-ce3ac51b4bd4",
   "metadata": {},
   "outputs": [],
   "source": [
    "\n",
    "# Split the data into train and test sets\n",
    "X_train, X_test, y_train, y_test = train_test_split(lyrics, encoded_genres, test_size=0.2, random_state=42)\n"
   ]
  },
  {
   "cell_type": "code",
   "execution_count": 8,
   "id": "ca198299-3989-464b-9f4c-863315e56e57",
   "metadata": {},
   "outputs": [],
   "source": [
    "\n",
    "# Convert text data into numerical features using TF-IDF\n",
    "vectorizer = TfidfVectorizer(stop_words='english', max_features=5000)  # Limit to 5000 features to avoid overfitting\n",
    "X_train_tfidf = vectorizer.fit_transform(X_train)\n",
    "X_test_tfidf = vectorizer.transform(X_test)"
   ]
  },
  {
   "cell_type": "code",
   "execution_count": 9,
   "id": "d3cbd833-b15b-402b-a247-2ffc2f587b84",
   "metadata": {},
   "outputs": [
    {
     "name": "stdout",
     "output_type": "stream",
     "text": [
      "Model and vectorizer saved successfully!\n"
     ]
    }
   ],
   "source": [
    "classifier = RandomForestClassifier(n_estimators=550, max_depth=300, random_state=0)\n",
    "classifier.fit(X_train_tfidf, y_train)\n",
    "\n",
    "# Save the model and the vectorizer to pickle files\n",
    "with open('random_forest_model.pkl', 'wb') as model_file:\n",
    "    pickle.dump(classifier, model_file)\n",
    "\n",
    "with open('tfidf_vectorizer.pkl', 'wb') as vectorizer_file:\n",
    "    pickle.dump(vectorizer, vectorizer_file)\n",
    "\n",
    "print(\"Model and vectorizer saved successfully!\")\n"
   ]
  },
  {
   "cell_type": "code",
   "execution_count": null,
   "id": "a9c7232c-aa20-4e92-b808-a429c72f0c4d",
   "metadata": {},
   "outputs": [],
   "source": []
  },
  {
   "cell_type": "code",
   "execution_count": null,
   "id": "b5cf759b-9b95-4694-ae88-417be9501fe6",
   "metadata": {},
   "outputs": [],
   "source": []
  },
  {
   "cell_type": "code",
   "execution_count": 10,
   "id": "b822ac06-1503-47e9-9058-02dc658057d5",
   "metadata": {},
   "outputs": [
    {
     "name": "stdout",
     "output_type": "stream",
     "text": [
      "Model and vectorizer loaded successfully!\n"
     ]
    }
   ],
   "source": [
    "# Load the model and the vectorizer\n",
    "with open('random_forest_model.pkl', 'rb') as model_file:\n",
    "    loaded_classifier = pickle.load(model_file)\n",
    "\n",
    "with open('tfidf_vectorizer.pkl', 'rb') as vectorizer_file:\n",
    "    loaded_vectorizer = pickle.load(vectorizer_file)\n",
    "\n",
    "print(\"Model and vectorizer loaded successfully!\")\n"
   ]
  },
  {
   "cell_type": "code",
   "execution_count": 11,
   "id": "6f7dae97-6ad6-42d6-9f3c-2b8fc61ab496",
   "metadata": {},
   "outputs": [
    {
     "name": "stdout",
     "output_type": "stream",
     "text": [
      "Predicted Genre: prog\n"
     ]
    }
   ],
   "source": [
    "def predict_genre(lyrics, model, vectorizer, label_encoder):\n",
    "    # Transform the input lyrics into the same feature space as the training data\n",
    "    lyrics_tfidf = vectorizer.transform([lyrics])\n",
    "    \n",
    "    # Predict the genre using the loaded model\n",
    "    predicted_label = model.predict(lyrics_tfidf)\n",
    "    \n",
    "    # Decode the label back to the genre\n",
    "    predicted_genre = label_encoder.inverse_transform(predicted_label)\n",
    "    \n",
    "    return predicted_genre[0]\n",
    "\n",
    "# Example usage\n",
    "new_lyrics = \"\"\"I'm a prisoner of love, so I'm feeling all alone\n",
    "I can't let go of this emotion, it's deep in my soul\"\"\"\n",
    "\n",
    "predicted_genre = predict_genre(new_lyrics, loaded_classifier, loaded_vectorizer, label_encoder)\n",
    "print(f\"Predicted Genre: {predicted_genre}\")\n"
   ]
  },
  {
   "cell_type": "code",
   "execution_count": 12,
   "id": "3d3810d9-d72a-437e-b5ab-e017bec35bdf",
   "metadata": {},
   "outputs": [
    {
     "name": "stdout",
     "output_type": "stream",
     "text": [
      "Model, vectorizer, and label encoder saved successfully!\n"
     ]
    }
   ],
   "source": [
    "import pickle\n",
    "from sklearn.preprocessing import LabelEncoder\n",
    "\n",
    "# Save your model\n",
    "with open('random_forest_model.pkl', 'wb') as model_file:\n",
    "    pickle.dump(classifier, model_file)\n",
    "\n",
    "# Save the vectorizer\n",
    "with open('tfidf_vectorizer.pkl', 'wb') as vectorizer_file:\n",
    "    pickle.dump(vectorizer, vectorizer_file)\n",
    "\n",
    "# Save the LabelEncoder (for decoding genres)\n",
    "with open('label_encoder.pkl', 'wb') as le_file:\n",
    "    pickle.dump(label_encoder, le_file)\n",
    "\n",
    "print(\"Model, vectorizer, and label encoder saved successfully!\")\n"
   ]
  },
  {
   "cell_type": "code",
   "execution_count": null,
   "id": "ae6aa062-eca2-4c94-87c9-c0d916dbd2ef",
   "metadata": {},
   "outputs": [],
   "source": []
  }
 ],
 "metadata": {
  "kernelspec": {
   "display_name": "Python 3 (ipykernel)",
   "language": "python",
   "name": "python3"
  },
  "language_info": {
   "codemirror_mode": {
    "name": "ipython",
    "version": 3
   },
   "file_extension": ".py",
   "mimetype": "text/x-python",
   "name": "python",
   "nbconvert_exporter": "python",
   "pygments_lexer": "ipython3",
   "version": "3.12.4"
  }
 },
 "nbformat": 4,
 "nbformat_minor": 5
}
